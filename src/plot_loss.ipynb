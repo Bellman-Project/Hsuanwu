{
 "cells": [
  {
   "cell_type": "code",
   "execution_count": 1,
   "metadata": {},
   "outputs": [],
   "source": [
    "import os\n",
    "import numpy as np\n",
    "import matplotlib.pyplot as plt\n",
    "import pandas as pd"
   ]
  },
  {
   "cell_type": "code",
   "execution_count": 2,
   "metadata": {},
   "outputs": [
    {
     "name": "stdout",
     "output_type": "stream",
     "text": [
      "Error with twoHeadPPO_LSTM_MazeHard-v0_rnd_obsRMS:True_rewNorm:none_updateProp:1.0_rff:False_s0\n",
      "Error with PPO_LSTM_Breakout-v5_extrinsic_obsRMS:False_rewNorm:rms_updateProp:1.0_rff:False_s0\n"
     ]
    }
   ],
   "source": [
    "data_path = \"../logs\"\n",
    "exps = os.listdir(data_path)\n",
    "value_loss = {}\n",
    "policy_loss = {}\n",
    "entropy_loss = {}\n",
    "\n",
    "for exp in exps:\n",
    "    try:\n",
    "        nested_ = os.listdir(os.path.join(data_path, exp))\n",
    "        file = os.path.join(data_path, exp, nested_[0], \"losses.log\")\n",
    "        data = pd.read_csv(file)\n",
    "\n",
    "        # take all but last _s1, or _s2, or _s3 which are the seeds\n",
    "        exp_name = \"_\".join(exp.split(\"_\")[:-1])\n",
    "        if exp_name not in value_loss:\n",
    "            value_loss[exp_name] = []\n",
    "            policy_loss[exp_name] = []\n",
    "            entropy_loss[exp_name] = []\n",
    "        \n",
    "        value_loss[exp_name].append(data[\"value_loss\"])\n",
    "        policy_loss[exp_name].append(data[\"policy_loss\"])\n",
    "        entropy_loss[exp_name].append(data[\"entropy_loss\"])\n",
    "    except:\n",
    "        print(f\"Error with {exp}\")\n",
    "        continue"
   ]
  },
  {
   "cell_type": "code",
   "execution_count": 3,
   "metadata": {},
   "outputs": [
    {
     "ename": "ValueError",
     "evalue": "min() arg is an empty sequence",
     "output_type": "error",
     "traceback": [
      "\u001b[0;31m---------------------------------------------------------------------------\u001b[0m",
      "\u001b[0;31mValueError\u001b[0m                                Traceback (most recent call last)",
      "Input \u001b[0;32mIn [3]\u001b[0m, in \u001b[0;36m<cell line: 3>\u001b[0;34m()\u001b[0m\n\u001b[1;32m      2\u001b[0m value_loss_min_lens \u001b[38;5;241m=\u001b[39m {}\n\u001b[1;32m      3\u001b[0m \u001b[38;5;28;01mfor\u001b[39;00m key \u001b[38;5;129;01min\u001b[39;00m value_loss:\n\u001b[0;32m----> 4\u001b[0m     min_len \u001b[38;5;241m=\u001b[39m \u001b[38;5;28;43mmin\u001b[39;49m\u001b[43m(\u001b[49m\u001b[43m[\u001b[49m\u001b[38;5;28;43mlen\u001b[39;49m\u001b[43m(\u001b[49m\u001b[43mx\u001b[49m\u001b[43m)\u001b[49m\u001b[43m \u001b[49m\u001b[38;5;28;43;01mfor\u001b[39;49;00m\u001b[43m \u001b[49m\u001b[43mx\u001b[49m\u001b[43m \u001b[49m\u001b[38;5;129;43;01min\u001b[39;49;00m\u001b[43m \u001b[49m\u001b[43mvalue_loss\u001b[49m\u001b[43m[\u001b[49m\u001b[43mkey\u001b[49m\u001b[43m]\u001b[49m\u001b[43m]\u001b[49m\u001b[43m)\u001b[49m\n\u001b[1;32m      5\u001b[0m     value_loss[key] \u001b[38;5;241m=\u001b[39m [x[:min_len] \u001b[38;5;28;01mfor\u001b[39;00m x \u001b[38;5;129;01min\u001b[39;00m value_loss[key]]\n\u001b[1;32m      6\u001b[0m     value_loss_min_lens[key] \u001b[38;5;241m=\u001b[39m min_len\n",
      "\u001b[0;31mValueError\u001b[0m: min() arg is an empty sequence"
     ]
    }
   ],
   "source": [
    "# make sure for each key in results, all the lists of rewards in the key are of the same length (which should be the max length common to all)\n",
    "value_loss_min_lens = {}\n",
    "for key in value_loss:\n",
    "    min_len = min([len(x) for x in value_loss[key]])\n",
    "    value_loss[key] = [x[:min_len] for x in value_loss[key]]\n",
    "    value_loss_min_lens[key] = min_len\n",
    "    print(f\"Key {key} has {len(value_loss[key])} runs of length {min_len}\")\n",
    "\n",
    "policy_loss_min_lens = {}\n",
    "for key in policy_loss:\n",
    "    min_len = min([len(x) for x in policy_loss[key]])\n",
    "    policy_loss[key] = [x[:min_len] for x in policy_loss[key]]\n",
    "    policy_loss_min_lens[key] = min_len\n",
    "    print(f\"Key {key} has {len(policy_loss[key])} runs of length {min_len}\")\n",
    "\n",
    "entropy_loss_min_lens = {}\n",
    "for key in entropy_loss:\n",
    "    min_len = min([len(x) for x in entropy_loss[key]])\n",
    "    entropy_loss[key] = [x[:min_len] for x in entropy_loss[key]]\n",
    "    entropy_loss_min_lens[key] = min_len"
   ]
  },
  {
   "cell_type": "code",
   "execution_count": null,
   "metadata": {},
   "outputs": [],
   "source": [
    "# for each experiment, plot the 3 curves\n",
    "for exp in value_loss:\n",
    "    value_loss[exp] = np.array(value_loss[exp]).mean(axis=0)\n",
    "    policy_loss[exp] = np.array(policy_loss[exp]).mean(axis=0)\n",
    "    entropy_loss[exp] = np.array(entropy_loss[exp]).mean(axis=0)\n",
    "\n",
    "    fig, ax = plt.subplots(1, 3, figsize=(20, 3))\n",
    "    ax[0].plot(value_loss[exp])\n",
    "    ax[1].plot(policy_loss[exp])\n",
    "    ax[2].plot(entropy_loss[exp])\n",
    "    ax[0].set_title(\"Value loss\")\n",
    "    ax[1].set_title(\"Policy loss\")\n",
    "    ax[2].set_title(\"Entropy loss\")\n",
    "    plt.suptitle(exp)\n",
    "    plt.show()\n",
    "    plt.tight_layout()"
   ]
  }
 ],
 "metadata": {
  "kernelspec": {
   "display_name": "rllte",
   "language": "python",
   "name": "python3"
  },
  "language_info": {
   "codemirror_mode": {
    "name": "ipython",
    "version": 3
   },
   "file_extension": ".py",
   "mimetype": "text/x-python",
   "name": "python",
   "nbconvert_exporter": "python",
   "pygments_lexer": "ipython3",
   "version": "3.8.18"
  }
 },
 "nbformat": 4,
 "nbformat_minor": 2
}
