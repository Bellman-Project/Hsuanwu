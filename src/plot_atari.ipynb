{
 "cells": [
  {
   "cell_type": "code",
   "execution_count": 7,
   "metadata": {},
   "outputs": [],
   "source": [
    "import os\n",
    "import numpy as np\n",
    "import matplotlib.pyplot as plt\n",
    "import pandas as pd\n",
    "from tabulate import tabulate"
   ]
  },
  {
   "cell_type": "code",
   "execution_count": 8,
   "metadata": {},
   "outputs": [],
   "source": [
    "data_path = \"../logs\"\n",
    "exps = os.listdir(data_path)\n",
    "results = {}\n",
    "\n",
    "for exp in exps:\n",
    "    try:\n",
    "        nested_ = os.listdir(os.path.join(data_path, exp))\n",
    "        file = os.path.join(data_path, exp, nested_[0], \"train.log\")\n",
    "        data = pd.read_csv(file)\n",
    "\n",
    "        # take all but last _s1, or _s2, or _s3 which are the seeds\n",
    "        exp_name = \"_\".join(exp.split(\"_\")[:-1])\n",
    "        if exp_name not in results:\n",
    "            results[exp_name] = []\n",
    "        \n",
    "        # get last 100\n",
    "        results[exp_name].append(data[\"episode_reward\"][100:])\n",
    "    except Exception as e:\n",
    "        print(e)\n",
    "        continue"
   ]
  },
  {
   "cell_type": "code",
   "execution_count": 9,
   "metadata": {},
   "outputs": [],
   "source": [
    "# Prepare summary table\n",
    "summary_data = {\n",
    "    \"Experiment\": [],\n",
    "    \"Mean Reward\": [],\n",
    "    \"Std Dev Reward\": [],\n",
    "    \"Num Seeds\": []\n",
    "}\n",
    "\n",
    "for exp_name, rewards in results.items():\n",
    "    try:\n",
    "        all_rewards = np.concatenate(rewards)\n",
    "        summary_data[\"Experiment\"].append(exp_name)\n",
    "        summary_data[\"Mean Reward\"].append(np.mean(all_rewards))\n",
    "        summary_data[\"Std Dev Reward\"].append(np.std(all_rewards))\n",
    "        summary_data[\"Num Seeds\"].append(len(rewards))\n",
    "    except Exception as e:\n",
    "        print(e)\n",
    "        continue\n",
    "\n",
    "# Convert to DataFrame and display\n",
    "summary_df = pd.DataFrame(summary_data)\n",
    "summary_df = summary_df.sort_values(by=\"Mean Reward\", ascending=False)"
   ]
  },
  {
   "cell_type": "code",
   "execution_count": 10,
   "metadata": {},
   "outputs": [],
   "source": [
    "summary_df = summary_df.sort_values(by=\"Experiment\")\n",
    "summary_df.to_csv(\"experiment_summary.csv\", index=False)"
   ]
  },
  {
   "cell_type": "code",
   "execution_count": 11,
   "metadata": {},
   "outputs": [],
   "source": [
    "summary_df[\"Algorithm\"] = summary_df[\"Experiment\"].apply(lambda x: x.split(\"_\")[2])\n",
    "summary_df[\"Environment\"] = summary_df[\"Experiment\"].apply(lambda x: x.split(\"_\")[1].replace(\"-v5\", \"\"))"
   ]
  },
  {
   "cell_type": "code",
   "execution_count": 12,
   "metadata": {},
   "outputs": [
    {
     "name": "stdout",
     "output_type": "stream",
     "text": [
      "+---+------------------+----------------------------------------+-----------------------------------------+----------------------------------------+-----------------------------------------+----------------------------------------+------------------------------------------+-----------------------------------------+-----------------------------------------+\n",
      "|   |   Environment    |              disagreement              |                   e3b                   |               extrinsic                |                   icm                   |              pseudocounts              |                   re3                    |                  ride                   |                   rnd                   |\n",
      "+---+------------------+----------------------------------------+-----------------------------------------+----------------------------------------+-----------------------------------------+----------------------------------------+------------------------------------------+-----------------------------------------+-----------------------------------------+\n",
      "| 0 |     Gravitar     | 689.1151186179153 ± 311.2708835073036  |  503.433714874031 ± 168.65582525982543  | 1060.188232051812 ± 623.6456327720081  |  194.7117822109556 ± 78.02856595279155  | 295.49338561640883 ± 94.80720725205323 |  130.00013779798815 ± 68.56267117549302  | 452.5250175708692 ± 141.71919170131702  | 835.5711571817957 ± 330.06380725017624  |\n",
      "| 1 | MontezumaRevenge |               0.0 ± 0.0                | 0.4965847747052991 ± 3.2956256479082704 |  42.829559852366 ± 103.94801468505717  |  31.13914288861959 ± 71.40735834241042  |               0.0 ± 0.0                | 2.6782714077175203 ± 12.933815314990998  |                0.0 ± 0.0                | 160.22273615814544 ± 276.33407572741413 |\n",
      "| 2 |    PrivateEye    | 33.22789930411157 ± 187.95907517130792 |  66.234935817461 ± 121.82966932392554   | 88.36636446810282 ± 31.708738792581283 | -27.49595758966038 ± 188.2615440880798  | 1076.741424950718 ± 1631.8533300248941 |  312.71508220355435 ± 1412.865963244359  | -1.4021804062126644 ± 20.95613780004167 | 45.84994049101829 ± 145.05707295396314  |\n",
      "| 3 |     Seaquest     | 6577.030031684805 ± 3844.5841451921897 |  8690.648527264211 ± 7741.214540991513  | 942.3706295633008 ± 33.90765084887763  | 2626.1299424131375 ± 1817.9541078252337 | 668.9571313888146 ± 158.4290321791072  |  864.6014768281259 ± 222.3269060374879   | 1024.3887219981118 ± 340.61226023945284 | 5989.058038049613 ± 2367.8591741314285  |\n",
      "| 4 |     Venture      | 468.4310683914573 ± 257.6100562362303  | 0.8041803206093349 ± 6.123378754274897  | 391.73213793103446 ± 522.0126709800301 | 0.5371182653314575 ± 3.8605242131846222 | 1.0338053531963658 ± 7.095295161092858 | 0.05737614476442679 ± 1.4022319657570401 |  404.8123369996598 ± 543.5770122970029  | 544.7295063904804 ± 197.31909833762555  |\n",
      "+---+------------------+----------------------------------------+-----------------------------------------+----------------------------------------+-----------------------------------------+----------------------------------------+------------------------------------------+-----------------------------------------+-----------------------------------------+\n"
     ]
    }
   ],
   "source": [
    "\n",
    "table = summary_df.pivot_table(index='Environment', \n",
    "                         columns='Algorithm', \n",
    "                         values=['Mean Reward', 'Std Dev Reward'],\n",
    "                         aggfunc='first')\n",
    "\n",
    "# Create a new DataFrame to format the mean ± std\n",
    "formatted_table = pd.DataFrame()\n",
    "\n",
    "# Iterate over each column (algorithm) and create the formatted strings\n",
    "for col in table.columns.levels[1]:  # Iterate over algorithms\n",
    "    mean_col = ('Mean Reward', col)\n",
    "    std_col = ('Std Dev Reward', col)\n",
    "    formatted_table[col] = table[mean_col].astype(str) + \" ± \" + table[std_col].astype(str)\n",
    "\n",
    "# Reset index for better readability\n",
    "formatted_table.reset_index(inplace=True)\n",
    "\n",
    "# Display the final table\n",
    "print(tabulate(formatted_table, headers='keys', tablefmt='pretty'))"
   ]
  }
 ],
 "metadata": {
  "kernelspec": {
   "display_name": "rllte",
   "language": "python",
   "name": "python3"
  },
  "language_info": {
   "codemirror_mode": {
    "name": "ipython",
    "version": 3
   },
   "file_extension": ".py",
   "mimetype": "text/x-python",
   "name": "python",
   "nbconvert_exporter": "python",
   "pygments_lexer": "ipython3",
   "version": "3.8.19"
  }
 },
 "nbformat": 4,
 "nbformat_minor": 2
}
