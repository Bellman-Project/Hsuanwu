{
 "cells": [
  {
   "cell_type": "code",
   "execution_count": 1,
   "metadata": {},
   "outputs": [],
   "source": [
    "import gymnasium as gym\n",
    "import numpy as np\n",
    "import torch as th\n",
    "from rllte.env.utils import Gymnasium2Torch\n",
    "from rllte.xplore.reward import ICM"
   ]
  },
  {
   "cell_type": "code",
   "execution_count": 2,
   "metadata": {},
   "outputs": [],
   "source": [
    "class FakeAtari(gym.Env):\n",
    "    def __init__(self):\n",
    "        self.action_space = gym.spaces.Discrete(7)\n",
    "        self.observation_space = gym.spaces.Box(low=0, high=1, shape=(4, 84, 84))\n",
    "        self.count = 0\n",
    "\n",
    "    def reset(self):\n",
    "        self.count = 0\n",
    "        return self.observation_space.sample(), {}\n",
    "\n",
    "    def step(self, action):\n",
    "        self.count += 1\n",
    "        if self.count > 100 and np.random.rand() < 0.1:\n",
    "            term = trunc = True\n",
    "        else:\n",
    "            term = trunc = False\n",
    "        return self.observation_space.sample(), 0, term, trunc, {}"
   ]
  },
  {
   "cell_type": "code",
   "execution_count": 3,
   "metadata": {},
   "outputs": [
    {
     "name": "stdout",
     "output_type": "stream",
     "text": [
      "torch.Size([128, 8]) tensor([[ 8.5521,  9.2151,  6.7879,  ...,  8.1058, 10.1724,  6.8122],\n",
      "        [ 9.0602,  8.9318,  8.3807,  ...,  9.0816,  8.7549,  7.4512],\n",
      "        [ 8.1448,  9.9906,  8.9156,  ...,  7.0198,  9.0013,  8.5745],\n",
      "        ...,\n",
      "        [ 8.3094,  8.5377,  8.4231,  ...,  8.9208,  7.4855,  6.7978],\n",
      "        [11.7878,  7.6400,  9.3886,  ...,  7.9695,  8.0754,  7.0947],\n",
      "        [ 8.9067,  9.5402,  9.5420,  ...,  7.2864,  8.6413,  7.3011]])\n"
     ]
    }
   ],
   "source": [
    "device = 'mps' if th.cuda.is_available() else 'cpu'\n",
    "n_envs = 8\n",
    "n_steps = 128\n",
    "\n",
    "envs = gym.vector.AsyncVectorEnv([FakeAtari for _ in range(n_envs)])\n",
    "envs = Gymnasium2Torch(envs, device)\n",
    "irs = ICM(envs, device, obs_norm_type=\"rms\")\n",
    "samples = {\"observations\": [], \"actions\": [], \"rewards\": [], \n",
    "           \"terminateds\": [], \"truncateds\": [], \"next_observations\": []}\n",
    "\n",
    "obs, infos = envs.reset()\n",
    "for _ in range(n_steps):\n",
    "    actions = th.stack([th.as_tensor(envs.action_space.sample()) for _ in range(n_envs)])\n",
    "    next_obs, rwds, terms, truncs, infos = envs.step(actions)\n",
    "    irs.watch(observations=obs,\n",
    "              actions=actions,\n",
    "              rewards=rwds,\n",
    "              terminateds=terms,\n",
    "              truncateds=truncs,\n",
    "              next_observations=next_obs\n",
    "              )\n",
    "\n",
    "    samples['observations'].append(obs)\n",
    "    samples['actions'].append(actions)\n",
    "    samples['rewards'].append(rwds)\n",
    "    samples['terminateds'].append(terms)\n",
    "    samples['truncateds'].append(truncs)\n",
    "    samples['next_observations'].append(next_obs)\n",
    "    \n",
    "    obs = next_obs\n",
    "\n",
    "samples = {k: th.stack(v) for k, v in samples.items()}\n",
    "intrinsic_rewards = irs.compute(samples)\n",
    "print(intrinsic_rewards.size(), intrinsic_rewards)"
   ]
  },
  {
   "cell_type": "code",
   "execution_count": null,
   "metadata": {},
   "outputs": [],
   "source": []
  }
 ],
 "metadata": {
  "kernelspec": {
   "display_name": "rllte",
   "language": "python",
   "name": "python3"
  },
  "language_info": {
   "codemirror_mode": {
    "name": "ipython",
    "version": 3
   },
   "file_extension": ".py",
   "mimetype": "text/x-python",
   "name": "python",
   "nbconvert_exporter": "python",
   "pygments_lexer": "ipython3",
   "version": "3.8.17"
  }
 },
 "nbformat": 4,
 "nbformat_minor": 2
}
