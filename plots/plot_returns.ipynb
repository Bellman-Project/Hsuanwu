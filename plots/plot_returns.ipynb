{
 "cells": [
  {
   "cell_type": "code",
   "execution_count": 2,
   "metadata": {},
   "outputs": [],
   "source": [
    "import matplotlib.pyplot as plt\n",
    "import numpy as np\n",
    "import pandas as pd\n",
    "import os"
   ]
  },
  {
   "cell_type": "code",
   "execution_count": null,
   "metadata": {},
   "outputs": [],
   "source": [
    "data_path = \"../logs\"\n",
    "\n",
    "for run in os.listdir(data_path):\n",
    "    nested_path = os.listdir(os.path.join(data_path, run))\n",
    "    nested_path = os.path.join(data_path, run, nested_path[0], \"train.log\")\n",
    "    print(nested_path)\n",
    "    data = pd.read_csv(nested_path)\n",
    "    data = data[\"episode_reward\"]\n",
    "    data[\"episode_reward\"] = data[\"episode_reward\"].rolling(window=100).mean()\n",
    "    plt.plot(data[\"episode_reward\"], label=run)"
   ]
  }
 ],
 "metadata": {
  "language_info": {
   "name": "python"
  }
 },
 "nbformat": 4,
 "nbformat_minor": 2
}
