{
 "cells": [
  {
   "cell_type": "code",
   "execution_count": null,
   "metadata": {},
   "outputs": [],
   "source": [
    "import warnings\n",
    "warnings.filterwarnings('ignore')\n",
    "\n",
    "from rllte.agent import PPO_LSTM\n",
    "from rllte.env import make_envpool_atari_env"
   ]
  },
  {
   "cell_type": "code",
   "execution_count": null,
   "metadata": {},
   "outputs": [],
   "source": [
    "device = \"cuda:0\"\n",
    "num_envs = 16\n",
    "\n",
    "env = make_envpool_atari_env(\n",
    "    env_id=\"SpaceInvaders-v5\",\n",
    "    device=device,\n",
    "    num_envs=num_envs,\n",
    "    asynchronous=False\n",
    ")"
   ]
  },
  {
   "cell_type": "code",
   "execution_count": null,
   "metadata": {},
   "outputs": [],
   "source": [
    "agent = PPO_LSTM(\n",
    "    env=env, \n",
    "    device=device,\n",
    "    tag=\"ppo_lstm_atari\",\n",
    ")\n",
    "\n",
    "print(\"===== AGENT =====\")\n",
    "print(agent.encoder)\n",
    "print(agent.policy)\n",
    "\n",
    "agent.train(num_train_steps=10_000_000)"
   ]
  }
 ],
 "metadata": {
  "kernelspec": {
   "display_name": "rllte",
   "language": "python",
   "name": "python3"
  },
  "language_info": {
   "codemirror_mode": {
    "name": "ipython",
    "version": 3
   },
   "file_extension": ".py",
   "mimetype": "text/x-python",
   "name": "python",
   "nbconvert_exporter": "python",
   "pygments_lexer": "ipython3",
   "version": "3.8.18"
  }
 },
 "nbformat": 4,
 "nbformat_minor": 2
}
