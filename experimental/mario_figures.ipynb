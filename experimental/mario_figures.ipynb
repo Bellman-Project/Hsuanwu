{
 "cells": [
  {
   "cell_type": "code",
   "execution_count": 6,
   "metadata": {},
   "outputs": [
    {
     "name": "stdout",
     "output_type": "stream",
     "text": [
      "Requirement already satisfied: pandas in /home/roger/.local/lib/python3.8/site-packages (2.0.3)\n",
      "Requirement already satisfied: python-dateutil>=2.8.2 in /home/roger/.local/lib/python3.8/site-packages (from pandas) (2.9.0.post0)\n",
      "Requirement already satisfied: numpy>=1.20.3; python_version < \"3.10\" in /home/roger/.local/lib/python3.8/site-packages (from pandas) (1.24.4)\n",
      "Requirement already satisfied: tzdata>=2022.1 in /home/roger/.local/lib/python3.8/site-packages (from pandas) (2024.1)\n",
      "Requirement already satisfied: pytz>=2020.1 in /home/roger/.local/lib/python3.8/site-packages (from pandas) (2024.1)\n",
      "Requirement already satisfied: six>=1.5 in /home/roger/.local/lib/python3.8/site-packages (from python-dateutil>=2.8.2->pandas) (1.16.0)\n",
      "Requirement already satisfied: matplotlib in /home/roger/.local/lib/python3.8/site-packages (3.7.5)\n",
      "Requirement already satisfied: contourpy>=1.0.1 in /home/roger/.local/lib/python3.8/site-packages (from matplotlib) (1.1.1)\n",
      "Requirement already satisfied: kiwisolver>=1.0.1 in /home/roger/.local/lib/python3.8/site-packages (from matplotlib) (1.4.5)\n",
      "Requirement already satisfied: packaging>=20.0 in /home/roger/.local/lib/python3.8/site-packages (from matplotlib) (24.0)\n",
      "Requirement already satisfied: pillow>=6.2.0 in /usr/lib/python3/dist-packages (from matplotlib) (7.0.0)\n",
      "Requirement already satisfied: cycler>=0.10 in /home/roger/.local/lib/python3.8/site-packages (from matplotlib) (0.12.1)\n",
      "Requirement already satisfied: importlib-resources>=3.2.0; python_version < \"3.10\" in /home/roger/.local/lib/python3.8/site-packages (from matplotlib) (6.4.0)\n",
      "Requirement already satisfied: numpy<2,>=1.20 in /home/roger/.local/lib/python3.8/site-packages (from matplotlib) (1.24.4)\n",
      "Requirement already satisfied: python-dateutil>=2.7 in /home/roger/.local/lib/python3.8/site-packages (from matplotlib) (2.9.0.post0)\n",
      "Requirement already satisfied: pyparsing>=2.3.1 in /home/roger/.local/lib/python3.8/site-packages (from matplotlib) (3.1.2)\n",
      "Requirement already satisfied: fonttools>=4.22.0 in /home/roger/.local/lib/python3.8/site-packages (from matplotlib) (4.51.0)\n",
      "Requirement already satisfied: zipp>=3.1.0; python_version < \"3.10\" in /home/roger/.local/lib/python3.8/site-packages (from importlib-resources>=3.2.0; python_version < \"3.10\"->matplotlib) (3.18.1)\n",
      "Requirement already satisfied: six>=1.5 in /home/roger/.local/lib/python3.8/site-packages (from python-dateutil>=2.7->matplotlib) (1.16.0)\n",
      "Requirement already satisfied: seaborn in /home/roger/.local/lib/python3.8/site-packages (0.13.2)\n",
      "Requirement already satisfied: pandas>=1.2 in /home/roger/.local/lib/python3.8/site-packages (from seaborn) (2.0.3)\n",
      "Requirement already satisfied: numpy!=1.24.0,>=1.20 in /home/roger/.local/lib/python3.8/site-packages (from seaborn) (1.24.4)\n",
      "Requirement already satisfied: matplotlib!=3.6.1,>=3.4 in /home/roger/.local/lib/python3.8/site-packages (from seaborn) (3.7.5)\n",
      "Requirement already satisfied: python-dateutil>=2.8.2 in /home/roger/.local/lib/python3.8/site-packages (from pandas>=1.2->seaborn) (2.9.0.post0)\n",
      "Requirement already satisfied: tzdata>=2022.1 in /home/roger/.local/lib/python3.8/site-packages (from pandas>=1.2->seaborn) (2024.1)\n",
      "Requirement already satisfied: pytz>=2020.1 in /home/roger/.local/lib/python3.8/site-packages (from pandas>=1.2->seaborn) (2024.1)\n",
      "Requirement already satisfied: contourpy>=1.0.1 in /home/roger/.local/lib/python3.8/site-packages (from matplotlib!=3.6.1,>=3.4->seaborn) (1.1.1)\n",
      "Requirement already satisfied: kiwisolver>=1.0.1 in /home/roger/.local/lib/python3.8/site-packages (from matplotlib!=3.6.1,>=3.4->seaborn) (1.4.5)\n",
      "Requirement already satisfied: cycler>=0.10 in /home/roger/.local/lib/python3.8/site-packages (from matplotlib!=3.6.1,>=3.4->seaborn) (0.12.1)\n",
      "Requirement already satisfied: importlib-resources>=3.2.0; python_version < \"3.10\" in /home/roger/.local/lib/python3.8/site-packages (from matplotlib!=3.6.1,>=3.4->seaborn) (6.4.0)\n",
      "Requirement already satisfied: packaging>=20.0 in /home/roger/.local/lib/python3.8/site-packages (from matplotlib!=3.6.1,>=3.4->seaborn) (24.0)\n",
      "Requirement already satisfied: fonttools>=4.22.0 in /home/roger/.local/lib/python3.8/site-packages (from matplotlib!=3.6.1,>=3.4->seaborn) (4.51.0)\n",
      "Requirement already satisfied: pillow>=6.2.0 in /usr/lib/python3/dist-packages (from matplotlib!=3.6.1,>=3.4->seaborn) (7.0.0)\n",
      "Requirement already satisfied: pyparsing>=2.3.1 in /home/roger/.local/lib/python3.8/site-packages (from matplotlib!=3.6.1,>=3.4->seaborn) (3.1.2)\n",
      "Requirement already satisfied: six>=1.5 in /home/roger/.local/lib/python3.8/site-packages (from python-dateutil>=2.8.2->pandas>=1.2->seaborn) (1.16.0)\n",
      "Requirement already satisfied: zipp>=3.1.0; python_version < \"3.10\" in /home/roger/.local/lib/python3.8/site-packages (from importlib-resources>=3.2.0; python_version < \"3.10\"->matplotlib!=3.6.1,>=3.4->seaborn) (3.18.1)\n",
      "Collecting scipy\n",
      "  Using cached scipy-1.10.1-cp38-cp38-manylinux_2_17_x86_64.manylinux2014_x86_64.whl (34.5 MB)\n",
      "Requirement already satisfied: numpy<1.27.0,>=1.19.5 in /home/roger/.local/lib/python3.8/site-packages (from scipy) (1.24.4)\n",
      "Installing collected packages: scipy\n",
      "Successfully installed scipy-1.10.1\n"
     ]
    }
   ],
   "source": [
    "!pip install pandas\n",
    "!pip install matplotlib\n",
    "!pip install seaborn \n",
    "!pip install scipy"
   ]
  },
  {
   "cell_type": "code",
   "execution_count": 7,
   "metadata": {},
   "outputs": [
    {
     "ename": "ModuleNotFoundError",
     "evalue": "No module named 'arch'",
     "output_type": "error",
     "traceback": [
      "\u001b[0;31m---------------------------------------------------------------------------\u001b[0m",
      "\u001b[0;31mModuleNotFoundError\u001b[0m                       Traceback (most recent call last)",
      "Cell \u001b[0;32mIn[7], line 10\u001b[0m\n\u001b[1;32m      8\u001b[0m \u001b[38;5;28;01mimport\u001b[39;00m \u001b[38;5;21;01msys\u001b[39;00m\n\u001b[1;32m      9\u001b[0m sys\u001b[38;5;241m.\u001b[39mpath\u001b[38;5;241m.\u001b[39mappend(\u001b[38;5;124m'\u001b[39m\u001b[38;5;124m../\u001b[39m\u001b[38;5;124m'\u001b[39m)\n\u001b[0;32m---> 10\u001b[0m \u001b[38;5;28;01mfrom\u001b[39;00m \u001b[38;5;21;01mrllte\u001b[39;00m\u001b[38;5;21;01m.\u001b[39;00m\u001b[38;5;21;01mevaluation\u001b[39;00m\u001b[38;5;21;01m.\u001b[39;00m\u001b[38;5;21;01mvisualization\u001b[39;00m \u001b[38;5;28;01mimport\u001b[39;00m _annotate_and_decorate_axis, plot_interval_estimates\n\u001b[1;32m     11\u001b[0m \u001b[38;5;28;01mfrom\u001b[39;00m \u001b[38;5;21;01mrllte\u001b[39;00m\u001b[38;5;21;01m.\u001b[39;00m\u001b[38;5;21;01mevaluation\u001b[39;00m \u001b[38;5;28;01mimport\u001b[39;00m Performance\n",
      "File \u001b[0;32m~/Desktop/rllte/experimental/../rllte/evaluation/__init__.py:26\u001b[0m\n\u001b[1;32m      1\u001b[0m \u001b[38;5;66;03m# =============================================================================\u001b[39;00m\n\u001b[1;32m      2\u001b[0m \u001b[38;5;66;03m# MIT License\u001b[39;00m\n\u001b[1;32m      3\u001b[0m \n\u001b[0;32m   (...)\u001b[0m\n\u001b[1;32m     22\u001b[0m \u001b[38;5;66;03m# SOFTWARE.\u001b[39;00m\n\u001b[1;32m     23\u001b[0m \u001b[38;5;66;03m# =============================================================================\u001b[39;00m\n\u001b[0;32m---> 26\u001b[0m \u001b[38;5;28;01mfrom\u001b[39;00m \u001b[38;5;21;01m.\u001b[39;00m\u001b[38;5;21;01mcomparison\u001b[39;00m \u001b[38;5;28;01mimport\u001b[39;00m Comparison \u001b[38;5;28;01mas\u001b[39;00m Comparison\n\u001b[1;32m     27\u001b[0m \u001b[38;5;28;01mfrom\u001b[39;00m \u001b[38;5;21;01m.\u001b[39;00m\u001b[38;5;21;01mperformance\u001b[39;00m \u001b[38;5;28;01mimport\u001b[39;00m Performance \u001b[38;5;28;01mas\u001b[39;00m Performance\n\u001b[1;32m     28\u001b[0m \u001b[38;5;28;01mfrom\u001b[39;00m \u001b[38;5;21;01m.\u001b[39;00m\u001b[38;5;21;01mutils\u001b[39;00m \u001b[38;5;28;01mimport\u001b[39;00m min_max_normalize \u001b[38;5;28;01mas\u001b[39;00m min_max_normalize\n",
      "File \u001b[0;32m~/Desktop/rllte/experimental/../rllte/evaluation/comparison.py:32\u001b[0m\n\u001b[1;32m     29\u001b[0m \u001b[38;5;28;01mfrom\u001b[39;00m \u001b[38;5;21;01mnumpy\u001b[39;00m \u001b[38;5;28;01mimport\u001b[39;00m random\n\u001b[1;32m     30\u001b[0m \u001b[38;5;28;01mfrom\u001b[39;00m \u001b[38;5;21;01mscipy\u001b[39;00m \u001b[38;5;28;01mimport\u001b[39;00m stats \u001b[38;5;28;01mas\u001b[39;00m sts\n\u001b[0;32m---> 32\u001b[0m \u001b[38;5;28;01mfrom\u001b[39;00m \u001b[38;5;21;01mrllte\u001b[39;00m\u001b[38;5;21;01m.\u001b[39;00m\u001b[38;5;21;01mevaluation\u001b[39;00m\u001b[38;5;21;01m.\u001b[39;00m\u001b[38;5;21;01mutils\u001b[39;00m \u001b[38;5;28;01mimport\u001b[39;00m StratifiedIndependentBootstrap\n\u001b[1;32m     35\u001b[0m \u001b[38;5;28;01mclass\u001b[39;00m \u001b[38;5;21;01mComparison\u001b[39;00m:\n\u001b[1;32m     36\u001b[0m \u001b[38;5;250m    \u001b[39m\u001b[38;5;124;03m\"\"\"Compare the performance between algorithms. Based on:\u001b[39;00m\n\u001b[1;32m     37\u001b[0m \u001b[38;5;124;03m        https://github.com/google-research/rliable/blob/master/rliable/metrics.py\u001b[39;00m\n\u001b[1;32m     38\u001b[0m \n\u001b[0;32m   (...)\u001b[0m\n\u001b[1;32m     52\u001b[0m \u001b[38;5;124;03m        Comparer instance.\u001b[39;00m\n\u001b[1;32m     53\u001b[0m \u001b[38;5;124;03m    \"\"\"\u001b[39;00m\n",
      "File \u001b[0;32m~/Desktop/rllte/experimental/../rllte/evaluation/utils.py:28\u001b[0m\n\u001b[1;32m      1\u001b[0m \u001b[38;5;66;03m# =============================================================================\u001b[39;00m\n\u001b[1;32m      2\u001b[0m \u001b[38;5;66;03m# MIT License\u001b[39;00m\n\u001b[1;32m      3\u001b[0m \n\u001b[0;32m   (...)\u001b[0m\n\u001b[1;32m     22\u001b[0m \u001b[38;5;66;03m# SOFTWARE.\u001b[39;00m\n\u001b[1;32m     23\u001b[0m \u001b[38;5;66;03m# =============================================================================\u001b[39;00m\n\u001b[1;32m     26\u001b[0m \u001b[38;5;28;01mfrom\u001b[39;00m \u001b[38;5;21;01mtyping\u001b[39;00m \u001b[38;5;28;01mimport\u001b[39;00m Dict, List, Optional, Tuple, Union\n\u001b[0;32m---> 28\u001b[0m \u001b[38;5;28;01mimport\u001b[39;00m \u001b[38;5;21;01march\u001b[39;00m\u001b[38;5;21;01m.\u001b[39;00m\u001b[38;5;21;01mbootstrap\u001b[39;00m \u001b[38;5;28;01mas\u001b[39;00m \u001b[38;5;21;01march_bs\u001b[39;00m\n\u001b[1;32m     29\u001b[0m \u001b[38;5;28;01mimport\u001b[39;00m \u001b[38;5;21;01mnumpy\u001b[39;00m \u001b[38;5;28;01mas\u001b[39;00m \u001b[38;5;21;01mnp\u001b[39;00m\n\u001b[1;32m     30\u001b[0m \u001b[38;5;28;01mfrom\u001b[39;00m \u001b[38;5;21;01mnumpy\u001b[39;00m \u001b[38;5;28;01mimport\u001b[39;00m random\n",
      "\u001b[0;31mModuleNotFoundError\u001b[0m: No module named 'arch'"
     ]
    }
   ],
   "source": [
    "import os\n",
    "import difflib\n",
    "import numpy as np\n",
    "import pandas as pd\n",
    "import matplotlib.pyplot as plt\n",
    "import seaborn as sns\n",
    "\n",
    "import sys\n",
    "sys.path.append('../')\n",
    "from rllte.evaluation.visualization import _annotate_and_decorate_axis, plot_interval_estimates\n",
    "from rllte.evaluation import Performance"
   ]
  },
  {
   "cell_type": "markdown",
   "metadata": {},
   "source": [
    "# Effectiveness Analysis"
   ]
  },
  {
   "cell_type": "markdown",
   "metadata": {},
   "source": [
    "## 1. Mario + Baseline"
   ]
  },
  {
   "cell_type": "markdown",
   "metadata": {},
   "source": [
    "### Curves"
   ]
  },
  {
   "cell_type": "code",
   "execution_count": null,
   "metadata": {},
   "outputs": [
    {
     "ename": "",
     "evalue": "",
     "output_type": "error",
     "traceback": [
      "\u001b[1;31mRunning cells with '/usr/bin/python3' requires the ipykernel package.\n",
      "\u001b[1;31mRun the following command to install 'ipykernel' into the Python environment. \n",
      "\u001b[1;31mCommand: '/usr/bin/python3 -m pip install ipykernel -U --user --force-reinstall'"
     ]
    }
   ],
   "source": [
    "algos = ['ICM', 'Disagreement', 'E3B', 'RND', 'PseudoCounts', 'RIDE', 'RE3', 'NGU']\n",
    "colors = sns.color_palette(\"husl\", len(algos))\n",
    "\n",
    "root = \"/home/roger/Desktop/rllte/all_mario_runs/baseline\"\n",
    "num_points = 10\n",
    "all_data = {algo: [] for algo in algos}\n",
    "for algo in algos:\n",
    "    for dir in os.listdir(root):\n",
    "        if algo.lower() in dir:\n",
    "            file = f\"{root}/{dir}/\"\n",
    "            # print(os.listdir(file), file)\n",
    "            file = file + difflib.get_close_matches(\"2024-\", os.listdir(file), 1, 0.1)[0] + '/train.log'\n",
    "            data = pd.read_csv(file)['episode_reward']\n",
    "            data = data[np.linspace(0, data.shape[0]-1, num_points, dtype=int)]\n",
    "            all_data[algo].append(data)\n",
    "\n",
    "    all_data[algo] = np.array(all_data[algo])\n",
    "    all_data[algo] = np.expand_dims(all_data[algo], axis=1)\n",
    "\n",
    "sampling_dict = dict()\n",
    "for algo in algos:\n",
    "    sampling_dict[algo] = [[], [], []]\n",
    "    for frame in range(num_points):\n",
    "        perf = Performance(all_data[algo][:, :, frame], get_ci=True, reps=2000)\n",
    "        value, CIs = perf.aggregate_iqm()\n",
    "        sampling_dict[algo][0].append(value)\n",
    "        sampling_dict[algo][1].append(CIs[0]) # lower bound\n",
    "        sampling_dict[algo][2].append(CIs[1]) # upper bound\n",
    "\n",
    "    sampling_dict[algo][0] = np.array(sampling_dict[algo][0]).reshape(-1)\n",
    "    sampling_dict[algo][1] = np.array(sampling_dict[algo][1]).reshape(-1)\n",
    "    sampling_dict[algo][2] = np.array(sampling_dict[algo][2]).reshape(-1)\n",
    "\n",
    "fig, ax = plt.subplots()\n",
    "\n",
    "ax.axhline(y=30.0, color='k', linestyle='--', linewidth=2, label=\"Extrinsic\")\n",
    "for algo, color in zip(algos, colors):\n",
    "    mean, ci_high, ci_low = sampling_dict[algo]\n",
    "    ax.plot(mean, linewidth=2, marker='o', markersize=5, c=color, label=algo)\n",
    "    ax.fill_between(range(num_points), ci_high, ci_low, alpha=0.2, color=color)\n",
    "\n",
    "ax.set_title('SuperMarioBros-v3', fontsize=\"x-large\")\n",
    "ax = _annotate_and_decorate_axis(ax, \n",
    "                                 ticklabelsize=\"large\",\n",
    "                                 xlabel=r\"Environment Steps ($\\times 10^6$)\", \n",
    "                                 ylabel=\"Episode Reward\",\n",
    "                                 xticklabels=np.linspace(0, 1, num_points),\n",
    "                                 )\n",
    "# ax.legend(loc='upper left', fontsize='large')\n",
    "ax.legend(bbox_to_anchor=(1.05, 0), loc=3, borderaxespad=0, fontsize='large')"
   ]
  },
  {
   "cell_type": "code",
   "execution_count": null,
   "metadata": {},
   "outputs": [
    {
     "ename": "",
     "evalue": "",
     "output_type": "error",
     "traceback": [
      "\u001b[1;31mRunning cells with '/usr/bin/python3' requires the ipykernel package.\n",
      "\u001b[1;31mRun the following command to install 'ipykernel' into the Python environment. \n",
      "\u001b[1;31mCommand: '/usr/bin/python3 -m pip install ipykernel -U --user --force-reinstall'"
     ]
    }
   ],
   "source": [
    "algos = ['ICM', 'Disagreement', 'E3B', 'RND', 'PseudoCounts', 'RIDE', 'NGU', 'RE3',]\n",
    "colors = sns.color_palette(\"husl\", len(algos))\n",
    "\n",
    "root = \"/home/roger/Desktop/rllte/all_mario_runs/rew. vanilla\"\n",
    "num_points = 10\n",
    "all_data = {algo: [] for algo in algos}\n",
    "for algo in algos:\n",
    "    for dir in os.listdir(root):\n",
    "        if algo.lower() in dir:\n",
    "            file = f\"{root}/{dir}/\"\n",
    "            file = file + '/' + difflib.get_close_matches(\"2024-\", os.listdir(file), 1, 0.1)[0] + '/train.log'\n",
    "            data = pd.read_csv(file)['episode_reward']\n",
    "            data = data[np.linspace(0, data.shape[0]-1, num_points, dtype=int)]\n",
    "            all_data[algo].append(data)\n",
    "\n",
    "    all_data[algo] = np.array(all_data[algo])\n",
    "    all_data[algo] = np.expand_dims(all_data[algo], axis=1)\n",
    "\n",
    "sampling_dict = dict()\n",
    "for algo in algos:\n",
    "    sampling_dict[algo] = [[], [], []]\n",
    "    for frame in range(num_points):\n",
    "        perf = Performance(all_data[algo][:, :, frame], get_ci=True, reps=2000)\n",
    "        value, CIs = perf.aggregate_iqm()\n",
    "        sampling_dict[algo][0].append(value)\n",
    "        sampling_dict[algo][1].append(CIs[0]) # lower bound\n",
    "        sampling_dict[algo][2].append(CIs[1]) # upper bound\n",
    "\n",
    "    sampling_dict[algo][0] = np.array(sampling_dict[algo][0]).reshape(-1)\n",
    "    sampling_dict[algo][1] = np.array(sampling_dict[algo][1]).reshape(-1)\n",
    "    sampling_dict[algo][2] = np.array(sampling_dict[algo][2]).reshape(-1)\n",
    "\n",
    "fig, ax = plt.subplots()\n",
    "\n",
    "ax.axhline(y=30.0, color='k', linestyle='--', linewidth=2, label=\"Extrinsic\")\n",
    "for algo, color in zip(algos, colors):\n",
    "    mean, ci_high, ci_low = sampling_dict[algo]\n",
    "    ax.plot(mean, linewidth=2, marker='o', markersize=5, c=color, label=algo)\n",
    "    ax.fill_between(range(num_points), ci_high, ci_low, alpha=0.2, color=color)\n",
    "\n",
    "ax.set_title('SuperMarioBros-v3', fontsize=\"x-large\")\n",
    "ax = _annotate_and_decorate_axis(ax, \n",
    "                                 ticklabelsize=\"large\",\n",
    "                                 xlabel=r\"Environment Steps ($\\times 10^6$)\", \n",
    "                                 ylabel=\"Episode Reward\",\n",
    "                                 xticklabels=np.linspace(0, 1, num_points),\n",
    "                                 )\n",
    "# ax.legend(loc='upper left', fontsize='large')\n",
    "ax.legend(bbox_to_anchor=(1.05, 0), loc=3, borderaxespad=0, fontsize='large')"
   ]
  },
  {
   "cell_type": "markdown",
   "metadata": {},
   "source": [
    "### Bar"
   ]
  },
  {
   "cell_type": "code",
   "execution_count": null,
   "metadata": {},
   "outputs": [
    {
     "ename": "",
     "evalue": "",
     "output_type": "error",
     "traceback": [
      "\u001b[1;31mRunning cells with '/usr/bin/python3' requires the ipykernel package.\n",
      "\u001b[1;31mRun the following command to install 'ipykernel' into the Python environment. \n",
      "\u001b[1;31mCommand: '/usr/bin/python3 -m pip install ipykernel -U --user --force-reinstall'"
     ]
    }
   ],
   "source": [
    "algos = ['ICM', 'Disagreement', 'E3B', 'RND', 'PseudoCounts', 'RIDE', 'RE3', 'NGU']\n",
    "for algo in algos:\n",
    "    num_last_episodes = 100\n",
    "    max_episode_return = 35\n",
    "    root = \"/home/roger/Desktop/rllte/all_mario_runs/\"\n",
    "    types = ['Baseline', 'Obs. Norm.', 'Rew. Vanilla', 'Rew. Min-Max', 'Rew. Rms', 'Rew. Rms New', 'Update Prop. 0.1', 'Update Prop. 0.5', 'Update Prop. 1.0', 'Weight Init: Default', 'Weight Init: Orthogonal', 'With Lstm']\n",
    "    colors = sns.color_palette(\"husl\", len(types))\n",
    "    all_data = {type: [] for type in types}\n",
    "\n",
    "    for type in types:\n",
    "        for dir in os.listdir(root + type.lower()):\n",
    "            if algo.lower() in dir:\n",
    "                file = f\"{root}/{type.lower()}/{dir}/\"\n",
    "                file = file + '/' + difflib.get_close_matches(\"2024-\", os.listdir(file), 1, 0.1)[0] + '/train.log'\n",
    "                try:\n",
    "                    data = pd.read_csv(file)['episode_reward']\n",
    "                except:\n",
    "                    print(file)\n",
    "                    continue\n",
    "                data = data[-num_last_episodes:]\n",
    "                all_data[type].append(data)\n",
    "\n",
    "        all_data[type] = np.array(all_data[type]).mean(axis=1, keepdims=True) / max_episode_return\n",
    "\n",
    "    aggregate_performance_dict = {\n",
    "        \"MEAN\": {},\n",
    "        #\"MEDIAN\": {},\n",
    "        #\"IQM\": {},\n",
    "        #\"OG\": {}\n",
    "    }\n",
    "    for type in all_data.keys():\n",
    "        perf = Performance(scores=all_data[type], get_ci=True)\n",
    "        aggregate_performance_dict['MEAN'][type] = perf.aggregate_mean()\n",
    "        #aggregate_performance_dict['MEDIAN'][type] = perf.aggregate_median()\n",
    "        #aggregate_performance_dict['IQM'][type] = perf.aggregate_iqm()\n",
    "        #aggregate_performance_dict['OG'][type] = perf.aggregate_og()\n",
    "\n",
    "    fig, ax = plot_interval_estimates(aggregate_performance_dict, \n",
    "                                    metric_names=['MEAN'],# 'IQM'], #'MEDIAN', 'IQM', 'OG'], \n",
    "                                    algorithms=types, \n",
    "                                    xlabel=\"Normalized Score\",\n",
    "                                    subfigure_width=6,\n",
    "                                    xlabel_y_coordinate=-0.02,\n",
    "                                    row_height=0.75)\n",
    "    \n",
    "    # set 1 single title to algo\n",
    "    #for ax in axes:\n",
    "    ax.set_title(algo, fontsize=\"x-large\")\n",
    "\n",
    "    #for ax in axes:\n",
    "    ax.set_xlim([0, 1])\n",
    "        \n",
    "    #for ax in axes:\n",
    "    # ax.axhline(y=0.5, color='k', linestyle='--', linewidth=2, alpha=0.5)\n",
    "    # ax.axhline(y=1.5, color='k', linestyle='--', linewidth=2, alpha=0.5)\n",
    "    # ax.axhline(y=4.5, color='k', linestyle='--', linewidth=2, alpha=0.5)\n",
    "    # ax.axhline(y=7.5, color='k', linestyle='--', linewidth=2, alpha=0.5)\n",
    "    # ax.axhline(y=9.5, color='k', linestyle='--', linewidth=2, alpha=0.5)"
   ]
  }
 ],
 "metadata": {
  "kernelspec": {
   "display_name": "rllte",
   "language": "python",
   "name": "python3"
  },
  "language_info": {
   "codemirror_mode": {
    "name": "ipython",
    "version": 3
   },
   "file_extension": ".py",
   "mimetype": "text/x-python",
   "name": "python",
   "nbconvert_exporter": "python",
   "pygments_lexer": "ipython3",
   "version": "3.8.10"
  }
 },
 "nbformat": 4,
 "nbformat_minor": 2
}
