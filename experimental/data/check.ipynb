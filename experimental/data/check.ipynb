{
 "cells": [
  {
   "cell_type": "code",
   "execution_count": 1,
   "metadata": {},
   "outputs": [],
   "source": [
    "import os\n",
    "import pandas as pd\n",
    "import difflib"
   ]
  },
  {
   "cell_type": "markdown",
   "metadata": {},
   "source": [
    "# Baselines"
   ]
  },
  {
   "cell_type": "code",
   "execution_count": 4,
   "metadata": {},
   "outputs": [
    {
     "name": "stdout",
     "output_type": "stream",
     "text": [
      "q2_PPO_SuperMarioBros-1-1-v3_ngu_obsRMS_True_rewNorm_minmax_updateProp_1.0_rff_False_weightInit_orthogonal_s5 ['.DS_Store', '2024-04-27-04-46-58']\n",
      "q2_PPO_SuperMarioBros-1-1-v3_pseudocounts_obsRMS_True_rewNorm_minmax_updateProp_1.0_rff_False_weightInit_orthogonal_s5 ['.DS_Store', '2024-04-27-04-46-51']\n",
      "q2_PPO_SuperMarioBros-1-1-v3_ride_obsRMS_True_rewNorm_minmax_updateProp_1.0_rff_False_weightInit_orthogonal_s5 ['.DS_Store', '2024-04-27-04-46-53']\n"
     ]
    }
   ],
   "source": [
    "for ds in ['01', '05', '10']:\n",
    "    root = f'e:/HSMRCS/rllte/experimental/figures/data/q3_new/{ds}'\n",
    "    for folder in os.listdir(root):\n",
    "        if folder == '.DS_Store':\n",
    "            continue\n",
    "        if len(os.listdir(os.path.join(root, folder))) != 1:\n",
    "            print(folder, os.listdir(os.path.join(root, folder)))\n",
    "    \n",
    "    algos = ['ICM', 'Disagreement', 'E3B', 'RND', 'PseudoCounts', 'RIDE', 'RE3', 'NGU']\n",
    "    num_points = 10\n",
    "    all_data = {algo: [] for algo in algos}\n",
    "    for algo in algos:\n",
    "        for dir in os.listdir(root):\n",
    "            if algo.lower() in dir:\n",
    "                file = f\"{root}/{dir}/\"\n",
    "                file = file + difflib.get_close_matches(\"2024-\", os.listdir(file), 1, 0.1)[0] + '/train.log'\n",
    "                data = pd.read_csv(file)#['episode_reward']\n",
    "                if data['step'].values[-1] != 9999360:\n",
    "                    print(file, 'not complete')"
   ]
  },
  {
   "cell_type": "markdown",
   "metadata": {},
   "source": [
    "# Q1"
   ]
  },
  {
   "cell_type": "code",
   "execution_count": 6,
   "metadata": {},
   "outputs": [
    {
     "name": "stdout",
     "output_type": "stream",
     "text": [
      "PPO_SuperMarioBros-1-1-v3_re3_obsRMS:True_rewNorm:rms_updateProp:1.0_rff:False_s3 ['2024-02-13-08-05-04', '.DS_Store']\n",
      "PPO_SuperMarioBros-1-1-v3_disagreement_obsRMS:True_rewNorm:rms_updateProp:1.0_rff:False_s1 ['.DS_Store', '2024-02-14-12-38-49']\n",
      "PPO_SuperMarioBros-1-1-v3_icm_obsRMS:True_rewNorm:rms_updateProp:1.0_rff:False_s2 ['.DS_Store', '2024-02-13-08-05-06']\n",
      "PPO_SuperMarioBros-1-1-v3_re3_obsRMS:True_rewNorm:rms_updateProp:1.0_rff:False_s2 ['2024-02-13-07-49-47', '.DS_Store']\n"
     ]
    }
   ],
   "source": [
    "for ds in ['q1']:\n",
    "    root = f'./{ds}'\n",
    "    for folder in os.listdir(root):\n",
    "        if folder == '.DS_Store':\n",
    "            continue\n",
    "        if len(os.listdir(os.path.join(root, folder))) != 1:\n",
    "            print(folder, os.listdir(os.path.join(root, folder)))\n",
    "    \n",
    "    algos = ['ICM', 'Disagreement', 'E3B', 'RND', 'PseudoCounts', 'RIDE', 'RE3', 'NGU']\n",
    "    num_points = 10\n",
    "    all_data = {algo: [] for algo in algos}\n",
    "    for algo in algos:\n",
    "        for dir in os.listdir(root):\n",
    "            if algo.lower() in dir:\n",
    "                file = f\"{root}/{dir}/\"\n",
    "                file = file + difflib.get_close_matches(\"2024-\", os.listdir(file), 1, 0.1)[0] + '/train.log'\n",
    "                data = pd.read_csv(file)#['episode_reward']\n",
    "                if data['step'].values[-1] != 9999360:\n",
    "                    print(file, 'not complete') "
   ]
  },
  {
   "cell_type": "code",
   "execution_count": null,
   "metadata": {},
   "outputs": [],
   "source": []
  }
 ],
 "metadata": {
  "kernelspec": {
   "display_name": "mesh",
   "language": "python",
   "name": "python3"
  },
  "language_info": {
   "codemirror_mode": {
    "name": "ipython",
    "version": 3
   },
   "file_extension": ".py",
   "mimetype": "text/x-python",
   "name": "python",
   "nbconvert_exporter": "python",
   "pygments_lexer": "ipython3",
   "version": "3.8.18"
  }
 },
 "nbformat": 4,
 "nbformat_minor": 2
}
