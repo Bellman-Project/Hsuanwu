{
 "cells": [
  {
   "cell_type": "markdown",
   "metadata": {},
   "source": [
    "1. Redefine the base class of intrinsic reward modules;\n",
    "2. Optimize the workflow (normal training and pre-training) and make it as general as possible;\n",
    "3. Add more intrinsic reward modules, including those who are designed to perform pre-training such as APS and ProtoRL;\n",
    "4. Experimental justification of each implemented reward module;\n",
    "5. Link `rllte.xplore.reward` to other representative RL frameworks;\n",
    "6. Paper writing and submission."
   ]
  },
  {
   "cell_type": "markdown",
   "metadata": {},
   "source": []
  }
 ],
 "metadata": {
  "language_info": {
   "name": "python"
  }
 },
 "nbformat": 4,
 "nbformat_minor": 2
}
