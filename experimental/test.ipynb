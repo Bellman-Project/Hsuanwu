{
 "cells": [
  {
   "cell_type": "code",
   "execution_count": 1,
   "metadata": {},
   "outputs": [
    {
     "name": "stderr",
     "output_type": "stream",
     "text": [
      "A.L.E: Arcade Learning Environment (version 0.8.1+53f58b7)\n",
      "[Powered by Stella]\n"
     ]
    }
   ],
   "source": [
    "import sys\n",
    "sys.path.append('../')\n",
    "from rllte.env import make_atari_env\n",
    "import torch as th\n",
    "from re3 import RE3\n",
    "from rnd import RND\n",
    "\n",
    "device = th.device(\"cuda:0\")\n",
    "envs = make_atari_env(device=device)\n",
    "rnd = RND(\n",
    "    observation_space=envs.observation_space,\n",
    "    action_space=envs.action_space,\n",
    "    device=device, n_envs=8\n",
    ")\n",
    "\n",
    "obs, infos = envs.reset()\n",
    "for i in range(10):\n",
    "    for j in range(128):\n",
    "        actions = th.randint(0, 2, (8,))\n",
    "        next_obs, rewards, terms, truncs, infos = envs.step(actions)\n",
    "        # watch \n",
    "        rnd.watch(obs, actions, rewards, terms, truncs, next_obs)\n",
    "        obs = next_obs"
   ]
  },
  {
   "cell_type": "code",
   "execution_count": 2,
   "metadata": {},
   "outputs": [],
   "source": [
    "obs = th.randn(128, 8, 4, 84, 84)\n",
    "intrinsic_rewards = rnd.compute(samples={\n",
    "    'observations': obs,\n",
    "    'next_observations': obs,\n",
    "})"
   ]
  },
  {
   "cell_type": "code",
   "execution_count": 1,
   "metadata": {},
   "outputs": [],
   "source": [
    "def func(**transitions):\n",
    "    print(transitions)\n",
    "    for k, v in transitions.items():\n",
    "        print(k, v)"
   ]
  },
  {
   "cell_type": "code",
   "execution_count": 4,
   "metadata": {},
   "outputs": [
    {
     "name": "stdout",
     "output_type": "stream",
     "text": [
      "a [1, 2, 3]\n",
      "b 2\n",
      "c 3\n"
     ]
    }
   ],
   "source": [
    "a = [1, 2, 3]\n",
    "b = 2\n",
    "c = 3\n",
    "\n",
    "func(a=a, b=b, c=c)"
   ]
  },
  {
   "cell_type": "code",
   "execution_count": null,
   "metadata": {},
   "outputs": [],
   "source": []
  }
 ],
 "metadata": {
  "kernelspec": {
   "display_name": "rllte",
   "language": "python",
   "name": "python3"
  },
  "language_info": {
   "codemirror_mode": {
    "name": "ipython",
    "version": 3
   },
   "file_extension": ".py",
   "mimetype": "text/x-python",
   "name": "python",
   "nbconvert_exporter": "python",
   "pygments_lexer": "ipython3",
   "version": "3.9.18"
  }
 },
 "nbformat": 4,
 "nbformat_minor": 2
}
